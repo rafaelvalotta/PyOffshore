{
 "cells": [
  {
   "cell_type": "markdown",
   "id": "4f27fbe2",
   "metadata": {},
   "source": [
    "### Integration with PyWake 2.5.0: tests phase"
   ]
  },
  {
   "cell_type": "code",
   "execution_count": 1,
   "id": "dab83553",
   "metadata": {},
   "outputs": [],
   "source": [
    "import py_wake"
   ]
  }
 ],
 "metadata": {
  "kernelspec": {
   "display_name": "Python 3 (ipykernel)",
   "language": "python",
   "name": "python3"
  },
  "language_info": {
   "codemirror_mode": {
    "name": "ipython",
    "version": 3
   },
   "file_extension": ".py",
   "mimetype": "text/x-python",
   "name": "python",
   "nbconvert_exporter": "python",
   "pygments_lexer": "ipython3",
   "version": "3.11.4"
  }
 },
 "nbformat": 4,
 "nbformat_minor": 5
}
